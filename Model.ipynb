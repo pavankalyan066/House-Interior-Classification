{
 "cells": [
  {
   "cell_type": "markdown",
   "metadata": {},
   "source": [
    "## Import Libraries"
   ]
  },
  {
   "cell_type": "code",
   "execution_count": 3,
   "metadata": {},
   "outputs": [],
   "source": [
    "from tensorflow.keras.preprocessing.image import ImageDataGenerator\n",
    "from tensorflow.keras.applications import EfficientNetB0\n",
    "from tensorflow.keras.callbacks import EarlyStopping\n",
    "from tensorflow.keras.callbacks import ModelCheckpoint\n",
    "from tensorflow.keras.layers import BatchNormalization\n",
    "from tensorflow.keras.layers import Dropout\n",
    "from tensorflow.keras.layers import Dense\n",
    "from tensorflow.keras.layers import Input\n",
    "from tensorflow.keras.optimizers import Adam\n",
    "from tensorflow.keras.models import Model\n",
    "from sklearn.metrics import classification_report, confusion_matrix\n",
    "from sklearn.model_selection import train_test_split\n",
    "from imutils import paths\n",
    "from tqdm import tqdm\n",
    "import matplotlib.pyplot as plt\n",
    "import numpy as np\n",
    "import tensorflow as tf\n",
    "import seaborn as sns\n",
    "import numpy as np\n",
    "import shutil\n",
    "import os"
   ]
  },
  {
   "cell_type": "code",
   "execution_count": 4,
   "metadata": {},
   "outputs": [],
   "source": [
    "ORIG_INPUT_DATASET = \"House_Room_Dataset/Bedroom\"\n",
    "\n",
    "TRAIN = \"training\"\n",
    "VAL = \"evaluation\"\n",
    "TEST = \"validation\"\n",
    "\n",
    "BASE_PATH = \"dataset\"\n",
    "BATCH_SIZE = 32\n",
    "CLASSES = [\"Modern\", \"Old\"]"
   ]
  },
  {
   "cell_type": "code",
   "execution_count": 5,
   "metadata": {},
   "outputs": [],
   "source": [
    "def plot_hist(hist, metric):\n",
    "    if metric == 'auc':\n",
    "        plt.plot(hist.history[\"auc\"])\n",
    "        plt.plot(hist.history[\"val_auc\"])\n",
    "    else:\n",
    "        plt.plot(hist.history[\"loss\"])\n",
    "        plt.plot(hist.history[\"val_loss\"])\n",
    "    plt.style.use(\"ggplot\")\n",
    "    plt.title(\"model {}\".format(metric))\n",
    "    plt.ylabel(\"{}\".format(metric))\n",
    "    plt.xlabel(\"epoch\")\n",
    "    plt.legend([\"train\", \"validation\"], loc=\"upper left\")\n",
    "    plt.show()"
   ]
  },
  {
   "cell_type": "code",
   "execution_count": 6,
   "metadata": {},
   "outputs": [
    {
     "data": {
      "text/plain": [
       "452"
      ]
     },
     "execution_count": 6,
     "metadata": {},
     "output_type": "execute_result"
    }
   ],
   "source": [
    "# Reading labels from the txt file\n",
    "with open(\"labels.txt\", 'r') as f:\n",
    "      manual_labels = f.read()\n",
    "        \n",
    "# Extracting individual labels into a list\n",
    "labels = [i for i in manual_labels]\n",
    "len(labels)"
   ]
  },
  {
   "cell_type": "code",
   "execution_count": 7,
   "metadata": {},
   "outputs": [
    {
     "name": "stdout",
     "output_type": "stream",
     "text": [
      "dict_keys(['O', 'M', '\\n'])\n",
      "dict_values([271, 180, 1])\n"
     ]
    }
   ],
   "source": [
    "from collections import Counter\n",
    "print(Counter(labels).keys()) \n",
    "print(Counter(labels).values())"
   ]
  },
  {
   "cell_type": "code",
   "execution_count": 8,
   "metadata": {},
   "outputs": [
    {
     "data": {
      "text/plain": [
       "'\\n'"
      ]
     },
     "execution_count": 8,
     "metadata": {},
     "output_type": "execute_result"
    }
   ],
   "source": [
    "labels.pop()"
   ]
  },
  {
   "cell_type": "code",
   "execution_count": 9,
   "metadata": {},
   "outputs": [
    {
     "data": {
      "text/plain": [
       "451"
      ]
     },
     "execution_count": 9,
     "metadata": {},
     "output_type": "execute_result"
    }
   ],
   "source": [
    "len(labels)"
   ]
  },
  {
   "cell_type": "code",
   "execution_count": 12,
   "metadata": {},
   "outputs": [
    {
     "data": {
      "text/plain": [
       "['bed_1.jpg', 'bed_2.jpg', 'bed_3.jpg', 'bed_4.jpg', 'bed_8.jpg']"
      ]
     },
     "execution_count": 12,
     "metadata": {},
     "output_type": "execute_result"
    }
   ],
   "source": [
    "# sorting files in the order they appear\n",
    "files = os.listdir(ORIG_INPUT_DATASET)\n",
    "files.sort(key=lambda f: int(f.split('_')[1].split('.')[0]))\n",
    "\n",
    "# checking to see the correct file order\n",
    "files[:5]"
   ]
  },
  {
   "cell_type": "code",
   "execution_count": 13,
   "metadata": {},
   "outputs": [
    {
     "data": {
      "text/plain": [
       "(344, 344, 61, 61, 46, 46)"
      ]
     },
     "execution_count": 13,
     "metadata": {},
     "output_type": "execute_result"
    }
   ],
   "source": [
    "# splitting files into train and test sets\n",
    "trainX, testX, trainY, testY =  train_test_split(files[:len(labels)], labels,stratify=labels, train_size=0.90)\n",
    "\n",
    "# further splitting of train set into train and val sets\n",
    "trainX, valX, trainY, valY = train_test_split(trainX, trainY, stratify=trainY, train_size=0.85)\n",
    "\n",
    "# Checking the size of train, test, eval\n",
    "len(trainX), len(trainY), len(valX), len(valY),  len(testX), len(testY)"
   ]
  },
  {
   "cell_type": "code",
   "execution_count": null,
   "metadata": {},
   "outputs": [],
   "source": []
  },
  {
   "cell_type": "code",
   "execution_count": 14,
   "metadata": {},
   "outputs": [
    {
     "name": "stderr",
     "output_type": "stream",
     "text": [
      "Iterating over images in sub folder: 100%|██████████████████████████████████████████████████████████████████████████████████| 344/344 [00:00<00:00, 425.80it/s]\n",
      "Iterating over images in sub folder: 100%|████████████████████████████████████████████████████████████████████████████████████| 46/46 [00:00<00:00, 467.96it/s]\n",
      "Iterating over images in sub folder: 100%|████████████████████████████████████████████████████████████████████████████████████| 61/61 [00:00<00:00, 395.35it/s]\n"
     ]
    }
   ],
   "source": [
    "# Building the dataset properly - \n",
    "splits = [(trainX, trainY), (testX, testY), (valX, valY)]\n",
    "dirnames = ['training', 'evaluation', 'validation']\n",
    "\n",
    "for i, (data,label) in enumerate(splits):\n",
    "    outside_dir=dirnames[i]\n",
    "\n",
    "    for j in tqdm(range(0, len(label)), desc=\"Iterating over images in sub folder\"):\n",
    "        dir = label[j]\n",
    "        \n",
    "        # construct the path to the sub-directory\n",
    "        dirPath = os.path.join(BASE_PATH, outside_dir, dir)\n",
    "        \n",
    "        # if the output directory does not exist, create it\n",
    "        if not os.path.exists(dirPath):\n",
    "            os.makedirs(dirPath)\n",
    "            \n",
    "            \n",
    "        # copy the img to this new directory\n",
    "        src_img = os.path.join(ORIG_INPUT_DATASET, data[j])\n",
    "        shutil.copy(src_img, dirPath)"
   ]
  },
  {
   "cell_type": "code",
   "execution_count": 15,
   "metadata": {},
   "outputs": [],
   "source": [
    "trainPath = os.path.join(BASE_PATH, TRAIN)\n",
    "valPath = os.path.join(BASE_PATH, VAL)\n",
    "testPath = os.path.join(BASE_PATH, TEST)"
   ]
  },
  {
   "cell_type": "code",
   "execution_count": 16,
   "metadata": {},
   "outputs": [
    {
     "name": "stdout",
     "output_type": "stream",
     "text": [
      "421 88 115\n"
     ]
    }
   ],
   "source": [
    "totalTrain = len(list(paths.list_images(trainPath)))\n",
    "totalVal = len(list(paths.list_images(testPath)))\n",
    "totalTest = len(list(paths.list_images(valPath)))\n",
    "print(totalTrain, totalTest, totalVal)"
   ]
  },
  {
   "cell_type": "markdown",
   "metadata": {},
   "source": [
    "**Data Augmentation**"
   ]
  },
  {
   "cell_type": "code",
   "execution_count": 17,
   "metadata": {},
   "outputs": [],
   "source": [
    "trainAug = ImageDataGenerator(\n",
    "rotation_range=90,\n",
    "zoom_range=[0.5, 1.0],\n",
    "width_shift_range=0.3,\n",
    "height_shift_range=0.25,\n",
    "shear_range=0.15,\n",
    "horizontal_flip=True,\n",
    "fill_mode=\"nearest\",\n",
    "brightness_range=[0.2, 1.0]\n",
    ")"
   ]
  },
  {
   "cell_type": "code",
   "execution_count": 18,
   "metadata": {},
   "outputs": [],
   "source": [
    "valAug = ImageDataGenerator()"
   ]
  },
  {
   "cell_type": "code",
   "execution_count": 19,
   "metadata": {},
   "outputs": [],
   "source": [
    "testAug = ImageDataGenerator()"
   ]
  },
  {
   "cell_type": "code",
   "execution_count": 42,
   "metadata": {},
   "outputs": [
    {
     "name": "stdout",
     "output_type": "stream",
     "text": [
      "Found 421 images belonging to 2 classes.\n",
      "Found 115 images belonging to 2 classes.\n"
     ]
    }
   ],
   "source": [
    "# Create training batches whilst creating augmented images on the fly\n",
    "trainGen = trainAug.flow_from_directory(\n",
    "    directory= 'dataset/training',\n",
    "    target_size=(224,224),\n",
    "#     save_to_dir='dataset/augmented/train/',\n",
    "#     save_prefix='train',\n",
    "    shuffle=True # data will be shuffled between epochs\n",
    ")\n",
    "\n",
    "# Create val batches \n",
    "valGen = valAug.flow_from_directory(\n",
    "directory= 'dataset/validation',\n",
    "target_size=(224,224),\n",
    "shuffle=True\n",
    ")"
   ]
  },
  {
   "cell_type": "code",
   "execution_count": 36,
   "metadata": {},
   "outputs": [
    {
     "name": "stdout",
     "output_type": "stream",
     "text": [
      "Found 88 images belonging to 2 classes.\n"
     ]
    }
   ],
   "source": [
    "# Create test batches\n",
    "testGen = testAug.flow_from_directory(\n",
    "directory= 'dataset/evaluation',\n",
    "target_size=(224,224),\n",
    "shuffle=False\n",
    ")"
   ]
  },
  {
   "cell_type": "markdown",
   "metadata": {},
   "source": [
    "**Transfer Learning**\n",
    "\n",
    "Feature Extraction Step"
   ]
  },
  {
   "cell_type": "code",
   "execution_count": 24,
   "metadata": {},
   "outputs": [],
   "source": [
    "baseModel = EfficientNetB0(\n",
    "            weights=\"imagenet\",\n",
    "            include_top=False, # make sure top layer is not included\n",
    "            input_tensor=Input(shape=(224, 224, 3)),\n",
    "            pooling=\"avg\"\n",
    "           )"
   ]
  },
  {
   "cell_type": "code",
   "execution_count": 25,
   "metadata": {},
   "outputs": [],
   "source": [
    "# freeze the weights\n",
    "for layer in baseModel.layers:\n",
    "      layer.trainable = False"
   ]
  },
  {
   "cell_type": "code",
   "execution_count": 26,
   "metadata": {},
   "outputs": [],
   "source": [
    "# training a new classifier on top (Functional Keras Model)\n",
    "x = baseModel.output\n",
    "Layer_1 = BatchNormalization()(x)\n",
    "Layer_2 = Dropout(0.5)(Layer_1)\n",
    "output_layer = Dense(len(CLASSES), activation=\"softmax\")(Layer_2)\n",
    "model = Model(inputs = baseModel.input, outputs = output_layer)\n"
   ]
  },
  {
   "cell_type": "code",
   "execution_count": 27,
   "metadata": {},
   "outputs": [],
   "source": [
    "# Another way to create the classifier on top of basemodel\n",
    "model = tf.keras.Sequential()\n",
    "model.add(baseModel)\n",
    "model.add(BatchNormalization())\n",
    "model.add(Dropout(0.5))\n",
    "model.add(Dense(len(CLASSES), activation=\"softmax\"))"
   ]
  },
  {
   "cell_type": "code",
   "execution_count": 28,
   "metadata": {},
   "outputs": [],
   "source": [
    "# compile\n",
    "opt = Adam(learning_rate=1e-3)\n",
    "model.compile(optimizer=opt, \n",
    "              loss='binary_crossentropy', \n",
    "              metrics=[tf.keras.metrics.AUC()]\n",
    "              )"
   ]
  },
  {
   "cell_type": "code",
   "execution_count": 29,
   "metadata": {},
   "outputs": [],
   "source": [
    "# implementing early stopping\n",
    "es = EarlyStopping(\n",
    "     monitor='val_loss',  #metric to monitor\n",
    "     mode='min',  # whether to min or max the metric monitored\n",
    "     patience=10, # epochs to wait before declaring stopped training\n",
    "     verbose=1  # output epoch when training was stopped\n",
    "     )\n",
    "\n",
    "# implementing model checkpoint\n",
    "mc = ModelCheckpoint(\n",
    "      'feature_extraction.h5',\n",
    "       monitor='val_loss',\n",
    "       mode='min',\n",
    "       verbose=1, # display epoch+accuracy everytime model is saved\n",
    "       save_best_only=True\n",
    "      )"
   ]
  },
  {
   "cell_type": "code",
   "execution_count": 43,
   "metadata": {},
   "outputs": [
    {
     "name": "stdout",
     "output_type": "stream",
     "text": [
      "Epoch 1/25\n",
      "13/13 - 26s - loss: 0.9188 - auc: 0.5945 - val_loss: 0.6455 - val_auc: 0.7077\n",
      "\n",
      "Epoch 00001: val_loss improved from inf to 0.64549, saving model to feature_extraction.h5\n"
     ]
    },
    {
     "name": "stderr",
     "output_type": "stream",
     "text": [
      "C:\\ProgramData\\Anaconda3\\lib\\site-packages\\keras\\utils\\generic_utils.py:494: CustomMaskWarning: Custom mask layers require a config and must override get_config. When loading, the custom mask layer must be passed to the custom_objects argument.\n",
      "  warnings.warn('Custom mask layers require a config and must override '\n"
     ]
    },
    {
     "name": "stdout",
     "output_type": "stream",
     "text": [
      "Epoch 2/25\n",
      "13/13 - 20s - loss: 0.9265 - auc: 0.5872 - val_loss: 0.6280 - val_auc: 0.7910\n",
      "\n",
      "Epoch 00002: val_loss improved from 0.64549 to 0.62802, saving model to feature_extraction.h5\n",
      "Epoch 3/25\n",
      "13/13 - 21s - loss: 0.8296 - auc: 0.6585 - val_loss: 0.6110 - val_auc: 0.8056\n",
      "\n",
      "Epoch 00003: val_loss improved from 0.62802 to 0.61097, saving model to feature_extraction.h5\n",
      "Epoch 4/25\n",
      "13/13 - 21s - loss: 0.7748 - auc: 0.6995 - val_loss: 0.5972 - val_auc: 0.8218\n",
      "\n",
      "Epoch 00004: val_loss improved from 0.61097 to 0.59724, saving model to feature_extraction.h5\n",
      "Epoch 5/25\n",
      "13/13 - 21s - loss: 0.7458 - auc: 0.7317 - val_loss: 0.5806 - val_auc: 0.8370\n",
      "\n",
      "Epoch 00005: val_loss improved from 0.59724 to 0.58055, saving model to feature_extraction.h5\n",
      "Epoch 6/25\n",
      "13/13 - 22s - loss: 0.7396 - auc: 0.7367 - val_loss: 0.5660 - val_auc: 0.8479\n",
      "\n",
      "Epoch 00006: val_loss improved from 0.58055 to 0.56595, saving model to feature_extraction.h5\n",
      "Epoch 7/25\n",
      "13/13 - 23s - loss: 0.7511 - auc: 0.7071 - val_loss: 0.5571 - val_auc: 0.8589\n",
      "\n",
      "Epoch 00007: val_loss improved from 0.56595 to 0.55712, saving model to feature_extraction.h5\n",
      "Epoch 8/25\n",
      "13/13 - 21s - loss: 0.6936 - auc: 0.7583 - val_loss: 0.5515 - val_auc: 0.8647\n",
      "\n",
      "Epoch 00008: val_loss improved from 0.55712 to 0.55146, saving model to feature_extraction.h5\n",
      "Epoch 9/25\n",
      "13/13 - 22s - loss: 0.7217 - auc: 0.7256 - val_loss: 0.5427 - val_auc: 0.8617\n",
      "\n",
      "Epoch 00009: val_loss improved from 0.55146 to 0.54270, saving model to feature_extraction.h5\n",
      "Epoch 10/25\n",
      "13/13 - 22s - loss: 0.6517 - auc: 0.7804 - val_loss: 0.5338 - val_auc: 0.8716\n",
      "\n",
      "Epoch 00010: val_loss improved from 0.54270 to 0.53379, saving model to feature_extraction.h5\n",
      "Epoch 11/25\n",
      "13/13 - 23s - loss: 0.6447 - auc: 0.7807 - val_loss: 0.5310 - val_auc: 0.8715\n",
      "\n",
      "Epoch 00011: val_loss improved from 0.53379 to 0.53102, saving model to feature_extraction.h5\n",
      "Epoch 12/25\n",
      "13/13 - 21s - loss: 0.6349 - auc: 0.7909 - val_loss: 0.5236 - val_auc: 0.8726\n",
      "\n",
      "Epoch 00012: val_loss improved from 0.53102 to 0.52364, saving model to feature_extraction.h5\n",
      "Epoch 13/25\n",
      "13/13 - 22s - loss: 0.5794 - auc: 0.8185 - val_loss: 0.5201 - val_auc: 0.8730\n",
      "\n",
      "Epoch 00013: val_loss improved from 0.52364 to 0.52005, saving model to feature_extraction.h5\n",
      "Epoch 14/25\n",
      "13/13 - 22s - loss: 0.6399 - auc: 0.7838 - val_loss: 0.5105 - val_auc: 0.8717\n",
      "\n",
      "Epoch 00014: val_loss improved from 0.52005 to 0.51054, saving model to feature_extraction.h5\n",
      "Epoch 15/25\n",
      "13/13 - 22s - loss: 0.6349 - auc: 0.7843 - val_loss: 0.5096 - val_auc: 0.8737\n",
      "\n",
      "Epoch 00015: val_loss improved from 0.51054 to 0.50958, saving model to feature_extraction.h5\n",
      "Epoch 16/25\n",
      "13/13 - 22s - loss: 0.6422 - auc: 0.7755 - val_loss: 0.5081 - val_auc: 0.8749\n",
      "\n",
      "Epoch 00016: val_loss improved from 0.50958 to 0.50812, saving model to feature_extraction.h5\n",
      "Epoch 17/25\n",
      "13/13 - 24s - loss: 0.6059 - auc: 0.8082 - val_loss: 0.5050 - val_auc: 0.8744\n",
      "\n",
      "Epoch 00017: val_loss improved from 0.50812 to 0.50498, saving model to feature_extraction.h5\n",
      "Epoch 18/25\n",
      "13/13 - 24s - loss: 0.6151 - auc: 0.7968 - val_loss: 0.4988 - val_auc: 0.8792\n",
      "\n",
      "Epoch 00018: val_loss improved from 0.50498 to 0.49876, saving model to feature_extraction.h5\n",
      "Epoch 19/25\n",
      "13/13 - 24s - loss: 0.6443 - auc: 0.7703 - val_loss: 0.4826 - val_auc: 0.8864\n",
      "\n",
      "Epoch 00019: val_loss improved from 0.49876 to 0.48262, saving model to feature_extraction.h5\n",
      "Epoch 20/25\n",
      "13/13 - 24s - loss: 0.6141 - auc: 0.7912 - val_loss: 0.4738 - val_auc: 0.8822\n",
      "\n",
      "Epoch 00020: val_loss improved from 0.48262 to 0.47384, saving model to feature_extraction.h5\n",
      "Epoch 21/25\n",
      "13/13 - 22s - loss: 0.6069 - auc: 0.7882 - val_loss: 0.4772 - val_auc: 0.8673\n",
      "\n",
      "Epoch 00021: val_loss did not improve from 0.47384\n",
      "Epoch 22/25\n",
      "13/13 - 24s - loss: 0.5826 - auc: 0.8112 - val_loss: 0.4724 - val_auc: 0.8869\n",
      "\n",
      "Epoch 00022: val_loss improved from 0.47384 to 0.47241, saving model to feature_extraction.h5\n",
      "Epoch 23/25\n",
      "13/13 - 22s - loss: 0.5754 - auc: 0.8201 - val_loss: 0.4713 - val_auc: 0.8808\n",
      "\n",
      "Epoch 00023: val_loss improved from 0.47241 to 0.47125, saving model to feature_extraction.h5\n",
      "Epoch 24/25\n",
      "13/13 - 23s - loss: 0.6228 - auc: 0.7886 - val_loss: 0.4713 - val_auc: 0.8810\n",
      "\n",
      "Epoch 00024: val_loss did not improve from 0.47125\n",
      "Epoch 25/25\n",
      "13/13 - 22s - loss: 0.5935 - auc: 0.7971 - val_loss: 0.4913 - val_auc: 0.8603\n",
      "\n",
      "Epoch 00025: val_loss did not improve from 0.47125\n"
     ]
    }
   ],
   "source": [
    "# Training the model\n",
    "hist = model.fit(\n",
    "       x=trainGen,\n",
    "       epochs=25,\n",
    "       verbose=2,\n",
    "       validation_data=valGen,\n",
    "       steps_per_epoch=totalTrain // BATCH_SIZE,\n",
    "       callbacks=[es, mc]\n",
    "      )"
   ]
  },
  {
   "cell_type": "code",
   "execution_count": 44,
   "metadata": {},
   "outputs": [
    {
     "data": {
      "image/png": "[encoded data removed]",
      "text/plain": [
       "<Figure size 432x288 with 1 Axes>"
      ]
     },
     "metadata": {
      "needs_background": "light"
     },
     "output_type": "display_data"
    }
   ],
   "source": [
    "plot_hist(hist, metric=\"loss\")"
   ]
  },
  {
   "cell_type": "code",
   "execution_count": 58,
   "metadata": {},
   "outputs": [
    {
     "data": {
      "image/png": "[encoded data removed]",
      "text/plain": [
       "<Figure size 432x288 with 1 Axes>"
      ]
     },
     "metadata": {},
     "output_type": "display_data"
    }
   ],
   "source": [
    "plot_hist(hist, metric=\"auc_2\")"
   ]
  },
  {
   "cell_type": "code",
   "execution_count": 46,
   "metadata": {},
   "outputs": [
    {
     "name": "stdout",
     "output_type": "stream",
     "text": [
      "No. of test images 88\n",
      "{'M': 0, 'O': 1}\n"
     ]
    },
    {
     "data": {
      "image/png": "[encoded data removed]",
      "text/plain": [
       "<Figure size 432x288 with 2 Axes>"
      ]
     },
     "metadata": {},
     "output_type": "display_data"
    }
   ],
   "source": [
    "testGen.reset()\n",
    "predIdxs = model.predict(\n",
    "             x=testGen,\n",
    "             steps=(totalTest // BATCH_SIZE) + 1\n",
    "            )\n",
    "predIdxs = np.argmax(predIdxs, axis = 1)\n",
    "print(\"No. of test images\", len(predIdxs))\n",
    "print(testGen.class_indices)\n",
    "cm = confusion_matrix(testGen.classes, predIdxs)\n",
    "heatmap = sns.heatmap(cm, annot=True)\n",
    "plt.xlabel(\"Predicted\")\n",
    "plt.ylabel(\"Actual\")\n",
    "plt.show()"
   ]
  },
  {
   "cell_type": "code",
   "execution_count": 47,
   "metadata": {},
   "outputs": [],
   "source": [
    "def fine_tune_model(model):\n",
    "    \n",
    "    # unfreeze last conv block i.e. block7a which can be found in top 20 layers\n",
    "    for layer in model.layers[-20:]:\n",
    "        if not isinstance(layer, BatchNormalization):\n",
    "            layer.trainable = True\n",
    "            \n",
    "    # check which of these are trainable and which aren't\n",
    "    for layer in model.layers:\n",
    "        print(\"{}: {}\".format(layer, layer.trainable))\n",
    "     \n",
    "     \n",
    "    # compile (with an even smaller learning rate)\n",
    "    opt = Adam(learning_rate=1e-5)\n",
    "    model.compile(optimizer=opt, \n",
    "                loss='binary_crossentropy', \n",
    "                metrics=[tf.keras.metrics.AUC()])\n",
    "    \n",
    "    return model"
   ]
  },
  {
   "cell_type": "code",
   "execution_count": 48,
   "metadata": {},
   "outputs": [],
   "source": [
    "trainGen.reset()\n",
    "valGen.reset()\n",
    "testGen.reset()"
   ]
  },
  {
   "cell_type": "code",
   "execution_count": 50,
   "metadata": {},
   "outputs": [
    {
     "name": "stdout",
     "output_type": "stream",
     "text": [
      "<keras.engine.functional.Functional object at 0x000001F2FFF288E0>: True\n",
      "<keras.layers.normalization.batch_normalization.BatchNormalization object at 0x000001F2FFF412B0>: True\n",
      "<keras.layers.core.Dropout object at 0x000001F2FFF466D0>: True\n",
      "<keras.layers.core.Dense object at 0x000001F2883C5610>: True\n"
     ]
    }
   ],
   "source": [
    "model_fine_tuned = fine_tune_model(model)"
   ]
  },
  {
   "cell_type": "code",
   "execution_count": 51,
   "metadata": {},
   "outputs": [
    {
     "name": "stdout",
     "output_type": "stream",
     "text": [
      "Epoch 1/50\n",
      "13/13 - 107s - loss: 0.7638 - auc_1: 0.6948 - val_loss: 0.4835 - val_auc_1: 0.8683\n",
      "\n",
      "Epoch 00001: val_loss improved from inf to 0.48354, saving model to fine_tuned_house.h5\n"
     ]
    },
    {
     "name": "stderr",
     "output_type": "stream",
     "text": [
      "C:\\ProgramData\\Anaconda3\\lib\\site-packages\\keras\\utils\\generic_utils.py:494: CustomMaskWarning: Custom mask layers require a config and must override get_config. When loading, the custom mask layer must be passed to the custom_objects argument.\n",
      "  warnings.warn('Custom mask layers require a config and must override '\n"
     ]
    },
    {
     "name": "stdout",
     "output_type": "stream",
     "text": [
      "Epoch 2/50\n",
      "13/13 - 95s - loss: 0.7554 - auc_1: 0.6931 - val_loss: 0.4799 - val_auc_1: 0.8721\n",
      "\n",
      "Epoch 00002: val_loss improved from 0.48354 to 0.47990, saving model to fine_tuned_house.h5\n",
      "Epoch 3/50\n",
      "13/13 - 101s - loss: 0.7333 - auc_1: 0.6925 - val_loss: 0.4822 - val_auc_1: 0.8699\n",
      "\n",
      "Epoch 00003: val_loss did not improve from 0.47990\n",
      "Epoch 4/50\n",
      "13/13 - 91s - loss: 0.6882 - auc_1: 0.7430 - val_loss: 0.4835 - val_auc_1: 0.8692\n",
      "\n",
      "Epoch 00004: val_loss did not improve from 0.47990\n",
      "Epoch 5/50\n",
      "13/13 - 92s - loss: 0.7026 - auc_1: 0.7249 - val_loss: 0.4895 - val_auc_1: 0.8633\n",
      "\n",
      "Epoch 00005: val_loss did not improve from 0.47990\n",
      "Epoch 6/50\n",
      "13/13 - 89s - loss: 0.7095 - auc_1: 0.7354 - val_loss: 0.4941 - val_auc_1: 0.8573\n",
      "\n",
      "Epoch 00006: val_loss did not improve from 0.47990\n",
      "Epoch 7/50\n",
      "13/13 - 89s - loss: 0.7513 - auc_1: 0.6925 - val_loss: 0.4977 - val_auc_1: 0.8541\n",
      "\n",
      "Epoch 00007: val_loss did not improve from 0.47990\n",
      "Epoch 8/50\n",
      "13/13 - 85s - loss: 0.6503 - auc_1: 0.7646 - val_loss: 0.5057 - val_auc_1: 0.8460\n",
      "\n",
      "Epoch 00008: val_loss did not improve from 0.47990\n",
      "Epoch 9/50\n",
      "13/13 - 87s - loss: 0.7093 - auc_1: 0.7336 - val_loss: 0.5091 - val_auc_1: 0.8431\n",
      "\n",
      "Epoch 00009: val_loss did not improve from 0.47990\n",
      "Epoch 10/50\n",
      "13/13 - 105s - loss: 0.7075 - auc_1: 0.7126 - val_loss: 0.5108 - val_auc_1: 0.8425\n",
      "\n",
      "Epoch 00010: val_loss did not improve from 0.47990\n",
      "Epoch 11/50\n",
      "13/13 - 97s - loss: 0.6691 - auc_1: 0.7516 - val_loss: 0.5136 - val_auc_1: 0.8399\n",
      "\n",
      "Epoch 00011: val_loss did not improve from 0.47990\n",
      "Epoch 12/50\n",
      "13/13 - 88s - loss: 0.6705 - auc_1: 0.7529 - val_loss: 0.5138 - val_auc_1: 0.8398\n",
      "\n",
      "Epoch 00012: val_loss did not improve from 0.47990\n",
      "Epoch 13/50\n",
      "13/13 - 89s - loss: 0.7088 - auc_1: 0.7296 - val_loss: 0.5124 - val_auc_1: 0.8422\n",
      "\n",
      "Epoch 00013: val_loss did not improve from 0.47990\n",
      "Epoch 14/50\n",
      "13/13 - 92s - loss: 0.7563 - auc_1: 0.6866 - val_loss: 0.5074 - val_auc_1: 0.8491\n",
      "\n",
      "Epoch 00014: val_loss did not improve from 0.47990\n",
      "Epoch 15/50\n",
      "13/13 - 89s - loss: 0.6705 - auc_1: 0.7550 - val_loss: 0.5075 - val_auc_1: 0.8515\n",
      "\n",
      "Epoch 00015: val_loss did not improve from 0.47990\n",
      "Epoch 16/50\n",
      "13/13 - 90s - loss: 0.6547 - auc_1: 0.7645 - val_loss: 0.5094 - val_auc_1: 0.8509\n",
      "\n",
      "Epoch 00016: val_loss did not improve from 0.47990\n",
      "Epoch 17/50\n",
      "13/13 - 95s - loss: 0.6416 - auc_1: 0.7598 - val_loss: 0.5120 - val_auc_1: 0.8476\n",
      "\n",
      "Epoch 00017: val_loss did not improve from 0.47990\n",
      "Epoch 18/50\n",
      "13/13 - 93s - loss: 0.6973 - auc_1: 0.7446 - val_loss: 0.5158 - val_auc_1: 0.8429\n",
      "\n",
      "Epoch 00018: val_loss did not improve from 0.47990\n",
      "Epoch 19/50\n",
      "13/13 - 89s - loss: 0.6030 - auc_1: 0.7997 - val_loss: 0.5158 - val_auc_1: 0.8439\n",
      "\n",
      "Epoch 00019: val_loss did not improve from 0.47990\n",
      "Epoch 20/50\n",
      "13/13 - 91s - loss: 0.6699 - auc_1: 0.7528 - val_loss: 0.5139 - val_auc_1: 0.8449\n",
      "\n",
      "Epoch 00020: val_loss did not improve from 0.47990\n",
      "Epoch 21/50\n",
      "13/13 - 89s - loss: 0.6876 - auc_1: 0.7553 - val_loss: 0.5106 - val_auc_1: 0.8479\n",
      "\n",
      "Epoch 00021: val_loss did not improve from 0.47990\n",
      "Epoch 22/50\n",
      "13/13 - 85s - loss: 0.6833 - auc_1: 0.7382 - val_loss: 0.5082 - val_auc_1: 0.8494\n",
      "\n",
      "Epoch 00022: val_loss did not improve from 0.47990\n",
      "Epoch 00022: early stopping\n"
     ]
    }
   ],
   "source": [
    "# implementing early stopping\n",
    "es_tune = EarlyStopping(\n",
    "     monitor='val_loss', \n",
    "     mode='min',  \n",
    "     patience=20, \n",
    "     verbose=1  \n",
    "     )\n",
    "# implementing model checkpoint\n",
    "mc_tune = ModelCheckpoint(\n",
    "      'fine_tuned_house.h5',\n",
    "       monitor='val_loss',\n",
    "       mode='min',\n",
    "       verbose=1, \n",
    "       save_best_only=True\n",
    "      )\n",
    "hist = model_fine_tuned.fit(\n",
    "      x=trainGen,\n",
    "      steps_per_epoch=totalTrain // BATCH_SIZE,\n",
    "      validation_data=valGen,\n",
    "      epochs=50,\n",
    "      verbose=2,\n",
    "      callbacks=[es_tune, mc_tune]\n",
    "     )"
   ]
  },
  {
   "cell_type": "code",
   "execution_count": 62,
   "metadata": {},
   "outputs": [
    {
     "data": {
      "image/png": "[encoded data removed]",
      "text/plain": [
       "<Figure size 432x288 with 1 Axes>"
      ]
     },
     "metadata": {},
     "output_type": "display_data"
    }
   ],
   "source": [
    "plot_hist(hist, metric=\"auc_3\")"
   ]
  },
  {
   "cell_type": "code",
   "execution_count": 53,
   "metadata": {},
   "outputs": [
    {
     "data": {
      "image/png": "[encoded data removed]",
      "text/plain": [
       "<Figure size 432x288 with 1 Axes>"
      ]
     },
     "metadata": {},
     "output_type": "display_data"
    }
   ],
   "source": [
    "plot_hist(hist, metric=\"loss\")"
   ]
  },
  {
   "cell_type": "markdown",
   "metadata": {},
   "source": [
    "**Thank you**"
   ]
  }
 ],
 "metadata": {
  "kernelspec": {
   "display_name": "Python 3",
   "language": "python",
   "name": "python3"
  },
  "language_info": {
   "codemirror_mode": {
    "name": "ipython",
    "version": 3
   },
   "file_extension": ".py",
   "mimetype": "text/x-python",
   "name": "python",
   "nbconvert_exporter": "python",
   "pygments_lexer": "ipython3",
   "version": "3.8.3"
  }
 },
 "nbformat": 4,
 "nbformat_minor": 4
}
